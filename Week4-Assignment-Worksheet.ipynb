{
 "cells": [
  {
   "cell_type": "markdown",
   "metadata": {},
   "source": [
    "# Capstone Project - The Battle of Neighborhoods (Week 1) - Visiting Hawaii\n",
    "\n",
    "\n",
    "## Introduction and Problem Statement\n",
    "\n",
    "\n",
    "## Data Source\n",
    "\n",
    "\n",
    "### Brief Overview of each Island in Hawaii\n",
    "- Wikipedia.org\n",
    "\n",
    "### Location (Exploration)\n",
    "- Felium Map\n",
    "\n",
    "### Weather\n",
    "\n",
    "\n",
    "### Flight\n",
    "- OpenFLight.org, https://openflights.org/data.html\n",
    "- FlightStats.com, https://developer.flightstats.com/api-docs/scheduledFlights/v1\n",
    "- https://www.hawaiitourismauthority.org\n",
    "\n",
    "### Accommodation\n",
    "\n",
    "\n",
    "### Activities\n",
    "- Calender\n",
    "\n",
    "\n",
    "## Data Cleaning\n",
    "\n"
   ]
  },
  {
   "cell_type": "code",
   "execution_count": null,
   "metadata": {},
   "outputs": [],
   "source": []
  },
  {
   "cell_type": "markdown",
   "metadata": {},
   "source": [
    "# References\n",
    "- https://en.wikipedia.org/wiki/List_of_counties_in_Hawaii\n",
    "- List of zipcodes in Hawaii, https://www.zipcodestogo.com/Hawaii/\n",
    "- Detail zipcode lookup, https://www.melissa.com/v2/lookups/mapzip/zipcode/?zipcode=96850\n",
    "- Detail zipcode lookup in JSON, https://www.melissa.com/v2/lookups/mapzip/zipcode/?zipcode=96850&fmt=json&id=\n",
    "- https://www.unitedstateszipcodes.org/96850/\n",
    "\n",
    "### Python Libraries\n",
    "- https://www.w3resource.com/python-exercises/geopy/python-geopy-nominatim_api-exercise-3.php\n",
    "- https://pypi.org/project/uszipcode/"
   ]
  },
  {
   "cell_type": "markdown",
   "metadata": {},
   "source": [
    "# Worksheet"
   ]
  },
  {
   "cell_type": "code",
   "execution_count": 1,
   "metadata": {},
   "outputs": [],
   "source": [
    "import pandas as pd"
   ]
  },
  {
   "cell_type": "code",
   "execution_count": 2,
   "metadata": {},
   "outputs": [
    {
     "name": "stdout",
     "output_type": "stream",
     "text": [
      "Collecting package metadata (current_repodata.json): done\n",
      "Solving environment: done\n",
      "\n",
      "## Package Plan ##\n",
      "\n",
      "  environment location: /home/jupyterlab/conda/envs/python\n",
      "\n",
      "  added / updated specs:\n",
      "    - lxml\n",
      "\n",
      "\n",
      "The following packages will be downloaded:\n",
      "\n",
      "    package                    |            build\n",
      "    ---------------------------|-----------------\n",
      "    ca-certificates-2020.1.1   |                0         132 KB  anaconda\n",
      "    certifi-2020.4.5.1         |           py36_0         159 KB  anaconda\n",
      "    libxslt-1.1.33             |       h7d1a2b0_0         577 KB  anaconda\n",
      "    lxml-4.5.0                 |   py36hefd8a0e_0         1.6 MB  anaconda\n",
      "    openssl-1.1.1g             |       h7b6447c_0         3.8 MB  anaconda\n",
      "    ------------------------------------------------------------\n",
      "                                           Total:         6.2 MB\n",
      "\n",
      "The following NEW packages will be INSTALLED:\n",
      "\n",
      "  libxslt            anaconda/linux-64::libxslt-1.1.33-h7d1a2b0_0\n",
      "  lxml               anaconda/linux-64::lxml-4.5.0-py36hefd8a0e_0\n",
      "\n",
      "The following packages will be SUPERSEDED by a higher-priority channel:\n",
      "\n",
      "  ca-certificates    conda-forge::ca-certificates-2020.4.5~ --> anaconda::ca-certificates-2020.1.1-0\n",
      "  certifi            conda-forge::certifi-2020.4.5.1-py36h~ --> anaconda::certifi-2020.4.5.1-py36_0\n",
      "  openssl            conda-forge::openssl-1.1.1g-h516909a_0 --> anaconda::openssl-1.1.1g-h7b6447c_0\n",
      "\n",
      "\n",
      "\n",
      "Downloading and Extracting Packages\n",
      "certifi-2020.4.5.1   | 159 KB    | ##################################### | 100% \n",
      "openssl-1.1.1g       | 3.8 MB    | ##################################### | 100% \n",
      "libxslt-1.1.33       | 577 KB    | ##################################### | 100% \n",
      "ca-certificates-2020 | 132 KB    | ##################################### | 100% \n",
      "lxml-4.5.0           | 1.6 MB    | ##################################### | 100% \n",
      "Preparing transaction: done\n",
      "Verifying transaction: done\n",
      "Executing transaction: done\n"
     ]
    }
   ],
   "source": [
    "!conda install -c anaconda lxml --yes"
   ]
  },
  {
   "cell_type": "code",
   "execution_count": null,
   "metadata": {},
   "outputs": [],
   "source": []
  }
 ],
 "metadata": {
  "kernelspec": {
   "display_name": "Python",
   "language": "python",
   "name": "conda-env-python-py"
  },
  "language_info": {
   "codemirror_mode": {
    "name": "ipython",
    "version": 3
   },
   "file_extension": ".py",
   "mimetype": "text/x-python",
   "name": "python",
   "nbconvert_exporter": "python",
   "pygments_lexer": "ipython3",
   "version": "3.6.10"
  }
 },
 "nbformat": 4,
 "nbformat_minor": 4
}
