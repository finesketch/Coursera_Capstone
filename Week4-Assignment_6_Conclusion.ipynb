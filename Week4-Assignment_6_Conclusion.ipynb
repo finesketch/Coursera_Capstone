{
 "cells": [
  {
   "cell_type": "markdown",
   "metadata": {},
   "source": [
    "# Capstone Project - The Battle of Neighborhoods (Week 2) - Visit Hawaii\n",
    "\n",
    "<div class=\"alert alert-block alert-info\" style=\"margin-top: 20px\">\n",
    "    \n",
    "**Applied Data Science Capstone by IBM/Coursera**\n",
    "\n",
    "The purpose of this Capstone assignment is to showcase students skills and the tools using location data to explore a geographical location. Students will have the opportunity to be as *creative* as we want and come up with an idea to leverage the *Foursquare* location data to explore or compare neighborhoods or cities of our choice or to come up with a problem that we can use the *Foursquare* location data to solve.\n",
    "\n",
    "</div>"
   ]
  },
  {
   "cell_type": "markdown",
   "metadata": {},
   "source": [
    "## Section 6: Conclusion <a name=\"conclusion\"></a>"
   ]
  },
  {
   "cell_type": "markdown",
   "metadata": {},
   "source": [
    "**Capstone Travel** has been in the tourism industry for more than 10 years. However, this is the first time, they hired a outside data science consultant to explore the travel destinations, especially for a special place called Hawaii.\n",
    "\n",
    "The primary goal of this project is that **Capstone Travel** wants to present useful information to customers and help them to decide on *which Hawaiian island they want to visit and spend the time on?* For each island, the following topics have been analyzed and explored:\n",
    "- Accommodations using available data for Airbnb posting\n",
    "- Crime incidents for each neighborhood\n",
    "- Foursquare's Top-Picks for each island"
   ]
  }
 ],
 "metadata": {
  "kernelspec": {
   "display_name": "Python",
   "language": "python",
   "name": "conda-env-python-py"
  },
  "language_info": {
   "codemirror_mode": {
    "name": "ipython",
    "version": 3
   },
   "file_extension": ".py",
   "mimetype": "text/x-python",
   "name": "python",
   "nbconvert_exporter": "python",
   "pygments_lexer": "ipython3",
   "version": "3.6.10"
  }
 },
 "nbformat": 4,
 "nbformat_minor": 4
}
