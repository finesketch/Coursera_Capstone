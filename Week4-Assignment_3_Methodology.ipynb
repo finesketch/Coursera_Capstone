{
 "cells": [
  {
   "cell_type": "markdown",
   "metadata": {},
   "source": [
    "# Capstone Project - The Battle of Neighborhoods (Week 2) - Visit Hawaii\n",
    "\n",
    "<div class=\"alert alert-block alert-info\" style=\"margin-top: 20px\">\n",
    "    \n",
    "**Applied Data Science Capstone by IBM/Coursera**\n",
    "\n",
    "The purpose of this Capstone assignment is to showcase students skills and the tools using location data to explore a geographical location. Students will have the opportunity to be as *creative* as we want and come up with an idea to leverage the *Foursquare* location data to explore or compare neighborhoods or cities of our choice or to come up with a problem that we can use the *Foursquare* location data to solve.\n",
    "\n",
    "</div>"
   ]
  },
  {
   "cell_type": "markdown",
   "metadata": {},
   "source": [
    "## Section 3: Methodology <a name=\"methodology\"></a>"
   ]
  },
  {
   "cell_type": "markdown",
   "metadata": {},
   "source": [
    "Making sure that visitors will experience this spirit of *Aloha* while staying in Hawaii, the **Capstone Travel**'s business goal is to provide useful information to its customers to make a decision on which Hawaiian island they plan to spend their time on.\n",
    "\n",
    "In the **Section 2: Data**, the data science consultant has gathered a lot of useful information for each Hawaiian island, for instance, Foursquare's *top-picks*, restaurants, parks & beaches, crime incident data, cost of living index, average weather temperature in each month, and real estate information.\n",
    "\n",
    "In the following section, the consultant will organize the information by each Hawaiian island. This is important to group the data analysis and results in this way, and it will greatly help to present the information for each island at a time. So for each Hawaiian island, the analysis section should include the following areas of studies:\n",
    "\n",
    "- **Crime Incidents**: The consultant will start looking into how to apply the *density data analysis of the crime incident data in each neighborhood or zip code*. The consultant plans to add the *heatmap* overlaid the map of each island to identify the low crime areas or safer neighborhoods using *k-means clustering* technique to define the *clusters of locations with low crimes*.\n",
    "- **Accommodation**: Once the above neighborhoods have been identified, an additional data gathering is required using the publicly available Airbnb housing data. Instead of grouping the information by zip code like above, the Airbnb housing data will be grouped by *zones*. After research, the consultant realized that it is very common practice in Hawaii housing market to slide the housing data in this way using this *zones* due to localized weather and traffic.\n",
    "- **Foursquare Top-Picks**: Additional details will be included for each Foursquare's *top-picks* venues for each island. After all, this is most critical selling points to present the beauty of each Hawaiian island.\n",
    "- **COVID-19**: The employees and customers safety is the top priority of **Capstone Travel**, the consultant will provide a high-level COVID-19 data analysis for the State of Hawaii.\n",
    "\n",
    "Finally, after present above details of each Hawaiian island to **Capstone Travel**, the consultant should prepare an executive summary of the report by including a comparison chart of each Hawaiian island. This executive report should also include overall discussion and conclusion."
   ]
  },
  {
   "cell_type": "code",
   "execution_count": null,
   "metadata": {},
   "outputs": [],
   "source": []
  }
 ],
 "metadata": {
  "kernelspec": {
   "display_name": "Python",
   "language": "python",
   "name": "conda-env-python-py"
  },
  "language_info": {
   "codemirror_mode": {
    "name": "ipython",
    "version": 3
   },
   "file_extension": ".py",
   "mimetype": "text/x-python",
   "name": "python",
   "nbconvert_exporter": "python",
   "pygments_lexer": "ipython3",
   "version": "3.6.10"
  }
 },
 "nbformat": 4,
 "nbformat_minor": 4
}
