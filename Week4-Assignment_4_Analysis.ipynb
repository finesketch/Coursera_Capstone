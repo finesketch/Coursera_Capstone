{
 "cells": [
  {
   "cell_type": "markdown",
   "metadata": {},
   "source": [
    "# Capstone Project - The Battle of Neighborhoods (Week 2) - Visit Hawaii\n",
    "\n",
    "<div class=\"alert alert-block alert-info\" style=\"margin-top: 20px\">\n",
    "    \n",
    "**Applied Data Science Capstone by IBM/Coursera**\n",
    "\n",
    "The purpose of this Capstone assignment is to showcase students skills and the tools using location data to explore a geographical location. Students will have the opportunity to be as *creative* as we want and come up with an idea to leverage the *Foursquare* location data to explore or compare neighborhoods or cities of our choice or to come up with a problem that we can use the *Foursquare* location data to solve.\n",
    "\n",
    "</div>"
   ]
  },
  {
   "cell_type": "code",
   "execution_count": null,
   "metadata": {},
   "outputs": [],
   "source": [
    "# global setting for verbose\n",
    "verbose = True"
   ]
  },
  {
   "cell_type": "code",
   "execution_count": null,
   "metadata": {},
   "outputs": [],
   "source": [
    "# The code was removed by Watson Studio for sharing.\n",
    "google_api_key = \"ABCDEFGHIJKLMNOPQRSTUVWXYZ\" # TODO: REMOVE THE KEY, ABCDEFGHIJKLMNOPQRSTUVWXYZ"
   ]
  },
  {
   "cell_type": "code",
   "execution_count": null,
   "metadata": {},
   "outputs": [],
   "source": [
    "# The code was removed by Watson Studio for sharing.\n",
    "foursquare_client_id = 'ABCDEFGHIJKLMNOPQRSTUVWXYZ' # your Foursquare ID, ABCDEFGHIJKLMNOPQRSTUVWXYZ\n",
    "foursquare_client_secret = 'ABCDEFGHIJKLMNOPQRSTUVWXYZ' # your Foursquare Secret\n",
    "foursquare_version = '20180724' # Foursquare API version\n",
    "\n",
    "# Foursquare category - outdoors\n",
    "outdoor_categoryId = '4d4b7105d754a06377d81259'\n",
    "outdoor_categoryName = 'outdoors'\n",
    "\n",
    "# Foursquare category - art\n",
    "art_categoryId = '4d4b7104d754a06370d81259'\n",
    "art_categoryName = 'art'\n",
    "\n",
    "# Foursquare category - food\n",
    "food_categoryId = '4d4b7105d754a06374d81259'\n",
    "food_categoryName = 'food'\n",
    "\n",
    "# Foursquare category - bars\n",
    "bars_categoryId = '4d4b7105d754a06376d81259'\n",
    "bars_categoryName = 'bars'"
   ]
  },
  {
   "cell_type": "code",
   "execution_count": null,
   "metadata": {},
   "outputs": [],
   "source": [
    "# let's unpack both island_df.pkl and neighborhood_df.plk files created during the data gathering step.\n",
    "\n",
    "# useful for many scientific computing in Python\n",
    "import numpy as np\n",
    "\n",
    "# primary data structure library\n",
    "import pandas as pd \n",
    "\n",
    "# pickle library to unpack the .pkl files\n",
    "import pickle\n",
    "\n",
    "# Unpack - island_df.pkl\n",
    "with open('island_df.pkl', 'rb') as f:\n",
    "    island_df = pickle.load(f)\n",
    "    \n",
    "# Unpack - island_df.pkl\n",
    "with open('neighborhood_df.pkl', 'rb') as f:\n",
    "    neighborhood_df = pickle.load(f)  "
   ]
  },
  {
   "cell_type": "code",
   "execution_count": null,
   "metadata": {},
   "outputs": [],
   "source": [
    "%matplotlib inline\n",
    "\n",
    "import matplotlib as mpl\n",
    "import matplotlib.pyplot as plt\n",
    "import matplotlib.patches as mpatches # needed for waffle Charts\n",
    "\n",
    "mpl.style.use('ggplot') # optional: for ggplot-like style"
   ]
  },
  {
   "cell_type": "code",
   "execution_count": null,
   "metadata": {},
   "outputs": [],
   "source": [
    "# import requests and sys libraries\n",
    "import requests\n",
    "import sys\n",
    "\n",
    "# method: Use Google API to retrieve coordinates using the address information\n",
    "def get_coordinates(api_key, address):\n",
    "    try:\n",
    "        url = 'https://maps.googleapis.com/maps/api/geocode/json?key={}&address={}'.format(api_key, address)\n",
    "        response = requests.get(url).json()\n",
    "        results = response['results']\n",
    "        geographical_data = results[0]['geometry']['location'] # get geographical coordinates\n",
    "        lat = geographical_data['lat']\n",
    "        lon = geographical_data['lng']\n",
    "        return [lat, lon]\n",
    "    except:\n",
    "        e = sys.exc_info()[0]\n",
    "        return [None, None]\n",
    "\n",
    "# test: \"get_coordinates\"\n",
    "hawaii_address = 'Honolulu, Hawaii, USA'\n",
    "hawaii_coordinates = get_coordinates(google_api_key, hawaii_address)\n",
    "\n",
    "if verbose:\n",
    "    print('Coordinate of {}: {}'.format(hawaii_address, hawaii_coordinates))"
   ]
  },
  {
   "cell_type": "code",
   "execution_count": null,
   "metadata": {},
   "outputs": [],
   "source": [
    "# method: Use Google API to retrieve neighborhood information using the address information\n",
    "def get_neighborhood(api_key, address):\n",
    "    try:\n",
    "        url = 'https://maps.googleapis.com/maps/api/geocode/json?key={}&address={}'.format(api_key, address)\n",
    "        response = requests.get(url).json()\n",
    "        results = response['results']\n",
    "        neighborhood_data = results[0]['address_components'] # get neighborhood\n",
    "        for item in neighborhood_data:\n",
    "            if item['types'][0] == 'neighborhood':\n",
    "                return item['long_name']              \n",
    "        return[None]\n",
    "    except:\n",
    "        e = sys.exc_info()[0]\n",
    "        return [None]    \n",
    "\n",
    "# test: \"get_neighborhood\"\n",
    "hawaii_address = '96830' # Zip code for Waikiki\n",
    "hawaii_neighborhood = get_neighborhood(google_api_key, hawaii_address)\n",
    "\n",
    "if verbose:\n",
    "    print('Coordinate of {}: {}'.format(hawaii_address, hawaii_neighborhood))"
   ]
  },
  {
   "cell_type": "code",
   "execution_count": null,
   "metadata": {},
   "outputs": [],
   "source": [
    "# import folium for map\n",
    "#!conda install -c conda-forge folium=0.5.0 --yes\n",
    "import folium\n",
    "from folium import plugins\n",
    "from folium.plugins import HeatMap\n",
    "from folium.features import DivIcon\n",
    "\n",
    "# import json\n",
    "import json\n",
    "\n",
    "# import numpy\n",
    "import numpy"
   ]
  },
  {
   "cell_type": "code",
   "execution_count": null,
   "metadata": {},
   "outputs": [],
   "source": [
    "# install wordcloud\n",
    "!conda install -c conda-forge wordcloud==1.4.1 --yes\n",
    "\n",
    "# import package and its set of stopwords\n",
    "from wordcloud import WordCloud, STOPWORDS"
   ]
  },
  {
   "cell_type": "code",
   "execution_count": null,
   "metadata": {},
   "outputs": [],
   "source": [
    "# load Airbnb data\n",
    "airbnb_housing_df = pd.read_csv('airbnb_listing_hawaii.csv')\n",
    "\n",
    "latlons = {}\n",
    "data_latlons = {}\n",
    "\n",
    "with open('neighbourhoods.geojson') as f:\n",
    "  hawaii_geojson = json.load(f)\n",
    "\n",
    "# method: apply style for geojson\n",
    "def geojson_style(feature):\n",
    "    return { 'color': 'blue', 'fill_opacity': 0.5, 'fill': False }\n",
    "\n",
    "# method: apply style for geojson\n",
    "def geojson_light_style(feature):\n",
    "    return { 'color': 'lightblue', 'fill_opacity': 0.5, 'fill': False }\n",
    "\n",
    "# method: get_zipcode_map with zip code information\n",
    "def get_island_zipcode_map(title, island, neighborhood_df, heatmap_latlons, zoom_level=11):\n",
    "    island_address = island\n",
    "    island_coordinates = get_coordinates(google_api_key, island_address)  \n",
    "\n",
    "    island_map = folium.Map(location=island_coordinates, zoom_start=zoom_level)\n",
    "    folium.Marker(island_coordinates, popup=island_address).add_to(island_map)\n",
    "    \n",
    "    # add zip code markers to the map\n",
    "    for i, data in neighborhood_df.iterrows():\n",
    "        if numpy.isnan(data[4]) == False and numpy.isnan(data[5]) == False:\n",
    "            folium.CircleMarker(\n",
    "                [data[4], data[5]], \n",
    "                radius=5, \n",
    "                color='yellow', \n",
    "                fill=True, \n",
    "                fill_color='blue', \n",
    "                fill_opacity=0.8, \n",
    "                popup='{} ({})'.format(data[3],data[2])\n",
    "            ).add_to(island_map)\n",
    "    \n",
    "    # divide into several zones\n",
    "    folium.GeoJson(hawaii_geojson, style_function=geojson_style, name='geojson').add_to(island_map)\n",
    "    \n",
    "    # apply heatmap to latitudes and longitudes\n",
    "    HeatMap(heatmap_latlons).add_to(island_map)\n",
    "    \n",
    "    island_map.get_root().html.add_child(folium.Element('<h3 align=\"center\" style=\"font-size:20px\"><b>{}</b></h3>'.format(title)))\n",
    "\n",
    "    return island_map\n",
    "\n",
    "# method: get a specific island\n",
    "def get_island_dataframes(island_df, neighborhood_df, airbnb_housing_df, island_name):\n",
    "    temp_island_df = island_df.loc[island_df['island'] == island_name]\n",
    "    temp_neighborhood_df = neighborhood_df.loc[neighborhood_df['island'] == island_name]\n",
    "    \n",
    "    if island_name == 'Oahu':\n",
    "        island_name = 'Honolulu'\n",
    "\n",
    "    temp_airbnb_housing_df = airbnb_housing_df.loc[airbnb_housing_df['neighbourhood_group'] == island_name]\n",
    "    \n",
    "    return temp_island_df, temp_neighborhood_df, temp_airbnb_housing_df\n",
    "\n",
    "# method: generate crime incident data from dataframe\n",
    "def generate_crime_incidents(neighborhood_df):\n",
    "    latlons = {}\n",
    "    for i, data in neighborhood_df.iterrows():\n",
    "        for i in range(0, data[6]):\n",
    "            if numpy.isnan(data[4]) == False and numpy.isnan(data[5]) == False:\n",
    "                latlon = (data[4], data[5])\n",
    "                latlons[data[2]] = latlon\n",
    "    island_latlons = {}\n",
    "    island_latlons = [[res[0], res[1]] for res in latlons.values()]\n",
    "    \n",
    "    return island_latlons\n",
    "\n",
    "# method: generate airbnb data from dataframe\n",
    "def generate_airbnb_housing(airbnb_df):\n",
    "    latlons = {}\n",
    "    for i, data in airbnb_df.iterrows():\n",
    "        if numpy.isnan(data[6]) == False and numpy.isnan(data[7]) == False:\n",
    "            latlon = (data[6], data[7])\n",
    "            latlons[data[0]] = latlon\n",
    "    island_latlons = {}\n",
    "    island_latlons = [[res[0], res[1]] for res in latlons.values()]\n",
    "    \n",
    "    return island_latlons\n",
    "\n",
    "# method: get_toppicks_map with venue information\n",
    "def generate_toppicks(island, zoom_level=11):\n",
    "    island_address = island\n",
    "    island_coordinates = get_coordinates(google_api_key, island_address)  \n",
    "\n",
    "    outdoor_venues_df = get_toppicks_venues(island_address, outdoor_categoryId, outdoor_categoryName, 50)\n",
    "    art_venues_df = get_toppicks_venues(island_address, art_categoryId, art_categoryName, 50)\n",
    "    food_venues_df = get_toppicks_venues(island_address, food_categoryId, food_categoryName, 50)\n",
    "    bars_venues_df = get_toppicks_venues(island_address, bars_categoryId, bars_categoryName, 50)\n",
    "    \n",
    "    latlons = {}\n",
    "    \n",
    "    for i, data in outdoor_venues_df.iterrows():\n",
    "        if numpy.isnan(data[4]) == False and numpy.isnan(data[5]) == False:\n",
    "            latlon = (data[4], data[5])\n",
    "            latlons[data[0]] = latlon\n",
    "\n",
    "    for i, data in art_venues_df.iterrows():\n",
    "        if numpy.isnan(data[4]) == False and numpy.isnan(data[5]) == False:\n",
    "            latlon = (data[4], data[5])\n",
    "            latlons[data[0]] = latlon\n",
    "    \n",
    "    for i, data in food_venues_df.iterrows():\n",
    "        if numpy.isnan(data[4]) == False and numpy.isnan(data[5]) == False:\n",
    "            latlon = (data[4], data[5])\n",
    "            latlons[data[0]] = latlon\n",
    "    \n",
    "    for i, data in bars_venues_df.iterrows():\n",
    "        if numpy.isnan(data[4]) == False and numpy.isnan(data[5]) == False:\n",
    "            latlon = (data[4], data[5])\n",
    "            latlons[data[0]] = latlon\n",
    "            \n",
    "    island_latlons = {}\n",
    "    island_latlons = [[res[0], res[1]] for res in latlons.values()]   \n",
    "    \n",
    "    return island_latlons\n",
    "\n",
    "# method: toppicks\n",
    "def get_toppicks_venues(island, categoryId, categoryName, limit=20):\n",
    "    venues_columns = [\n",
    "        'category', \n",
    "        'categoryId', \n",
    "        'name', \n",
    "        'subcategory',\n",
    "        'latitude', \n",
    "        'longitude',\n",
    "        'address']\n",
    "\n",
    "    # Create the empty neighborhood dataframe\n",
    "    venues_df = pd.DataFrame(columns=venues_columns)    \n",
    "    \n",
    "    url = 'https://api.foursquare.com/v2/venues/explore?client_id={}&client_secret={}&v={}&near={}&categoryId={}&limit={}&sortByPopularity=1&section=topPicks'.format(\n",
    "        foursquare_client_id, foursquare_client_secret, foursquare_version, island, categoryId, limit)\n",
    "    results = requests.get(url).json()['response']['groups'][0]['items']\n",
    "\n",
    "    for item in results:\n",
    "        venues_df = venues_df.append({\n",
    "                              'category': categoryName,\n",
    "                              'categoryId': item['venue']['id'],\n",
    "                              'name': item['venue']['name'],\n",
    "                              'subcategory': item['venue']['categories'][0]['name'],\n",
    "                              'latitude': item['venue']['location']['lat'],\n",
    "                              'longitude': item['venue']['location']['lng'],\n",
    "                              'address': ', '.join(item['venue']['location']['formattedAddress'])\n",
    "                              }, ignore_index=True)\n",
    "    return venues_df\n",
    "\n",
    "# method: generate top-picks in string\n",
    "def generate_word_count_toppicks(island):\n",
    "    island_address = island\n",
    "    island_coordinates = get_coordinates(google_api_key, island_address)  \n",
    "\n",
    "    outdoor_venues_df = get_toppicks_venues(island_address, outdoor_categoryId, outdoor_categoryName, 25)\n",
    "    art_venues_df = get_toppicks_venues(island_address, art_categoryId, art_categoryName, 25)\n",
    "    \n",
    "    frames = [outdoor_venues_df, art_venues_df]\n",
    "    results_df = pd.concat(frames)\n",
    "    \n",
    "    word_string = ''\n",
    "    count = 50\n",
    "    \n",
    "    for i, data in results_df.iterrows():\n",
    "        name = data[2]\n",
    "        word_string += (name + ' ') * (count ** 2)\n",
    "        count -= 1     \n",
    "    \n",
    "    return word_string "
   ]
  },
  {
   "cell_type": "code",
   "execution_count": null,
   "metadata": {},
   "outputs": [],
   "source": [
    "# method: get_island_toppicks_outdoor_map with zip code information\n",
    "def get_island_toppicks_outdoor_map(title, island, limit=20, zoom_level=11):\n",
    "    island_address = island\n",
    "    island_coordinates = get_coordinates(google_api_key, island_address)  \n",
    "\n",
    "    island_map = folium.Map(location=island_coordinates, zoom_start=zoom_level)\n",
    "    folium.Marker(island_coordinates, popup=island_address).add_to(island_map)\n",
    "    \n",
    "    # divide into several zones\n",
    "    folium.GeoJson(hawaii_geojson, style_function=geojson_style, name='geojson').add_to(island_map)\n",
    "    \n",
    "    outdoor_venues_df = get_toppicks_venues(island_address, outdoor_categoryId, outdoor_categoryName, limit)  \n",
    "\n",
    "    # add zip code markers to the map\n",
    "    for i, data in outdoor_venues_df.iterrows():\n",
    "        if numpy.isnan(data[4]) == False and numpy.isnan(data[5]) == False:\n",
    "            folium.CircleMarker(\n",
    "                [data[4], data[5]], \n",
    "                radius=5, \n",
    "                color='yellow', \n",
    "                fill=True, \n",
    "                fill_color='blue', \n",
    "                fill_opacity=0.8, \n",
    "                popup='{}'.format(data[2].replace(\"'\", \"\"))\n",
    "            ).add_to(island_map)\n",
    "            # add label markers\n",
    "            label = '<div style=\"font-size:8pt\">{}</div>'.format(data[2].replace(\"'\", \"\"))\n",
    "            folium.Marker(\n",
    "                [data[4], data[5]], \n",
    "                icon=DivIcon(\n",
    "                    icon_anchor=(0,0),\n",
    "                    icon_size=(180,36),\n",
    "                    html=label)\n",
    "            ).add_to(island_map)             \n",
    "\n",
    "    island_map.get_root().html.add_child(folium.Element('<h3 align=\"center\" style=\"font-size:20px\"><b>{}</b></h3>'.format(title)))\n",
    "\n",
    "    return island_map"
   ]
  },
  {
   "cell_type": "code",
   "execution_count": null,
   "metadata": {},
   "outputs": [],
   "source": [
    "# verify airbnb_housing_df dataframe is unpacked successfully\n",
    "if verbose:\n",
    "    airbnb_housing_df.head()"
   ]
  },
  {
   "cell_type": "code",
   "execution_count": null,
   "metadata": {},
   "outputs": [],
   "source": [
    "# verify neighborhood_df dataframe is unpacked successfully\n",
    "if verbose:\n",
    "    neighborhood_df.head()"
   ]
  },
  {
   "cell_type": "code",
   "execution_count": null,
   "metadata": {},
   "outputs": [],
   "source": [
    "!pip install shapely\n",
    "import shapely.geometry\n",
    "\n",
    "!pip install pyproj\n",
    "import pyproj\n",
    "\n",
    "import math\n",
    "\n",
    "def lonlat_to_xy(lon, lat):\n",
    "    proj_latlon = pyproj.Proj(proj='latlong',datum='WGS84')\n",
    "    proj_xy = pyproj.Proj(proj=\"utm\", zone=33, datum='WGS84')\n",
    "    xy = pyproj.transform(proj_latlon, proj_xy, lon, lat)\n",
    "    return xy[0], xy[1]\n",
    "\n",
    "def xy_to_lonlat(x, y):\n",
    "    proj_latlon = pyproj.Proj(proj='latlong',datum='WGS84')\n",
    "    proj_xy = pyproj.Proj(proj=\"utm\", zone=33, datum='WGS84')\n",
    "    lonlat = pyproj.transform(proj_xy, proj_latlon, x, y)\n",
    "    return lonlat[0], lonlat[1]\n",
    "\n",
    "def calc_xy_distance(x1, y1, x2, y2):\n",
    "    dx = x2 - x1\n",
    "    dy = y2 - y1\n",
    "    return math.sqrt(dx*dx + dy*dy)\n",
    "\n",
    "def coordinates_distance_miles(coordinate1, coordinate2):\n",
    "    #radius of the Earth\n",
    "    R = 6373.0 \n",
    "    # coordinates\n",
    "    lat1 = math.radians(coordinate1[0])\n",
    "    lon1 = math.radians(coordinate1[1])\n",
    "    lat2 = math.radians(coordinate2[0])\n",
    "    lon2 = math.radians(coordinate2[1])\n",
    "    # change in coordinates\n",
    "    dlon = lon2 - lon1\n",
    "    dlat = lat2 - lat1\n",
    "    # Haversine formula\n",
    "    a = math.sin(dlat / 2)**2 + math.cos(lat1) * math.cos(lat2) * math.sin(dlon / 2)**2\n",
    "    c = 2 * math.atan2(math.sqrt(a), math.sqrt(1 - a))\n",
    "    distance = R * c\n",
    "\n",
    "    return (distance * 0.621371) # convert to miles\n",
    "\n",
    "\n",
    "lihue_address = 'Lihue, Hawaii, USA'\n",
    "lihue_coordinates = get_coordinates(google_api_key, lihue_address)\n",
    "honolulu_address = 'Honolulu, Hawaii, USA'\n",
    "honolulu_coordinates = get_coordinates(google_api_key, honolulu_address)\n",
    "\n",
    "print('Lihue: latitude={}, longitude={}'.format(lihue_coordinates[0], lihue_coordinates[1]))\n",
    "print('Honolulu: latitude={}, longitude={}'.format(honolulu_coordinates[0], honolulu_coordinates[1]))\n",
    "print('Distance (miles) from Lihue to Honolulu: {}miles'.format(coordinates_distance_miles(lihue_coordinates, honolulu_coordinates)))"
   ]
  },
  {
   "cell_type": "code",
   "execution_count": null,
   "metadata": {},
   "outputs": [],
   "source": [
    "# import sklearn - Kmeans\n",
    "from sklearn.cluster import KMeans\n",
    "\n",
    "# method: define clusters\n",
    "def get_housing_kmeans_map(title, island, data_airbnb_housing_df, heatmap_latlons, clusters=15, zoom_level=11):\n",
    "    good_xys = data_airbnb_housing_df[['latitude', 'longitude']].values\n",
    "    kmeans = KMeans(n_clusters=clusters, random_state=0).fit(good_xys)\n",
    "    cluster_centers = kmeans.cluster_centers_\n",
    "    \n",
    "    if verbose:\n",
    "        print(title)\n",
    "        print(island)\n",
    "        print(cluster_centers)\n",
    "\n",
    "    island_address = island\n",
    "    island_coordinates = get_coordinates(google_api_key, island_address)  \n",
    "    \n",
    "    island_map = folium.Map(location=island_coordinates, zoom_start=zoom_level)\n",
    "    folium.TileLayer('cartodbpositron').add_to(island_map)\n",
    "    \n",
    "    HeatMap(heatmap_latlons).add_to(island_map)\n",
    "    \n",
    "    # divide into several zones\n",
    "    folium.GeoJson(hawaii_geojson, style_function=geojson_style, name='geojson').add_to(island_map)\n",
    "\n",
    "    for lat, lon in cluster_centers:\n",
    "        folium.Circle([lat, lon], radius=1500, color='green', fill=True, fill_opacity=0.25).add_to(island_map) \n",
    "    \n",
    "    island_map.get_root().html.add_child(folium.Element('<h3 align=\"center\" style=\"font-size:20px\"><b>{}</b></h3>'.format(title)))\n",
    "    \n",
    "    return island_map"
   ]
  },
  {
   "cell_type": "code",
   "execution_count": null,
   "metadata": {},
   "outputs": [],
   "source": [
    "airbnb_housing_df['safe_area'] = True\n",
    "\n",
    "# check which Airbnb posting is within 5 miles of crime being reported\n",
    "def update_airbnb_housing_df_for_safe_area():\n",
    "    temp_df = airbnb_housing_df.loc[airbnb_housing_df['neighbourhood_group'] == 'Honolulu']\n",
    "    for i, data in temp_df.iterrows():\n",
    "        print(' *', end='')\n",
    "        if data[5] == 'Honolulu' and numpy.isnan(data[6]) == False and numpy.isnan(data[7]) == False: # since only crime committed in Honolulu, let's restrict it\n",
    "            for i1, data1 in neighborhood_df.iterrows():\n",
    "                print(' .', end='')\n",
    "                if data1[6] > 0 and numpy.isnan(data1[4]) == False and numpy.isnan(data1[4]) == False:\n",
    "                    distance = coordinates_distance_miles([data[6], data[7]], [data1[4], data1[5]])\n",
    "                    if distance <= 5: # if crime committed in radius range of 5 miles\n",
    "                        airbnb_housing_df.loc[airbnb_housing_df['id'] == data[0], 'safe_area'] = False\n",
    "                    "
   ]
  },
  {
   "cell_type": "code",
   "execution_count": null,
   "metadata": {},
   "outputs": [],
   "source": []
  },
  {
   "cell_type": "code",
   "execution_count": null,
   "metadata": {},
   "outputs": [],
   "source": []
  },
  {
   "cell_type": "code",
   "execution_count": null,
   "metadata": {},
   "outputs": [],
   "source": []
  },
  {
   "cell_type": "code",
   "execution_count": null,
   "metadata": {},
   "outputs": [],
   "source": []
  },
  {
   "cell_type": "code",
   "execution_count": null,
   "metadata": {},
   "outputs": [],
   "source": []
  },
  {
   "cell_type": "markdown",
   "metadata": {},
   "source": [
    "## Section 4: Analysis <a name=\"analysis\"></a>"
   ]
  },
  {
   "cell_type": "markdown",
   "metadata": {},
   "source": [
    "As mentioned in the previous section, the analysis will be done by each Hawaiian island. This is important to group the information in this way, and it will greatly help to present the information for each island at a time. So for each Hawaiian island, the analysis section should include the following areas of studies:\n",
    "- Crime Incidents\n",
    "- Accommodation\n",
    "- Foursquare Top-Picks\n",
    "- COVID-19"
   ]
  },
  {
   "cell_type": "code",
   "execution_count": null,
   "metadata": {},
   "outputs": [],
   "source": []
  },
  {
   "cell_type": "markdown",
   "metadata": {},
   "source": [
    "### 1. Kauai (aka. The Garden Isle)\n",
    "\n",
    "Let begin by reviewing the data available for Kauai."
   ]
  },
  {
   "cell_type": "code",
   "execution_count": null,
   "metadata": {},
   "outputs": [],
   "source": [
    "# restrict the data by island\n",
    "data_island_df, data_neighborhood_df, data_airbnb_housing_df = get_island_dataframes(island_df, neighborhood_df, airbnb_housing_df, 'Kauai')\n",
    "\n",
    "# verify the dataframes\n",
    "if verbose:\n",
    "    print('data_island_df.shape: {}'.format(data_island_df.shape))\n",
    "    print('data_neighborhood_df.shape: {}'.format(data_neighborhood_df.shape))\n",
    "    print('data_airbnb_housing_df.shape: {}'.format(data_airbnb_housing_df.shape)) "
   ]
  },
  {
   "cell_type": "markdown",
   "metadata": {},
   "source": [
    "**Crime Incidents on Kauai**\n",
    "\n",
    "First of all we are looking to take a look at the Kauai's crime incident. However, given the 14 zip codes assigned to the island of Kauai is none crimes incidents being reported to the police. The map below does not display any crime *heatmap*."
   ]
  },
  {
   "cell_type": "code",
   "execution_count": null,
   "metadata": {},
   "outputs": [],
   "source": [
    "# generate crime incidents\n",
    "data_latlons = generate_crime_incidents(data_neighborhood_df)\n",
    "\n",
    "# crime incident heatmap\n",
    "map = get_island_zipcode_map('Kauai - Crime Incident Heatmap', 'Kauai, Hawaii, USA', data_neighborhood_df, data_latlons)\n",
    "map"
   ]
  },
  {
   "cell_type": "markdown",
   "metadata": {},
   "source": [
    "**Airbnb Housing Data**\n",
    "\n",
    "Use *heatmap* to find where are the Airbnb posting."
   ]
  },
  {
   "cell_type": "code",
   "execution_count": null,
   "metadata": {},
   "outputs": [],
   "source": [
    "# generate Airbnb housing\n",
    "data_latlons = generate_airbnb_housing(data_airbnb_housing_df)\n",
    "\n",
    "# Airbnb housing heatmap\n",
    "map = get_island_zipcode_map('Kauai - Airbnb Housing Heatmap', 'Kauai, Hawaii, USA', data_neighborhood_df, data_latlons)\n",
    "map"
   ]
  },
  {
   "cell_type": "markdown",
   "metadata": {},
   "source": [
    "**Use K-Means to Define 15 Clusters of Housing Neighborhoods**\n",
    "\n",
    "Next, use K-Means machine learning technique to define 15 clusters using Airbnb housing data. Two of the popular neighborhoods on the Kauai are **Hanalei** in the North of the island and **Poipu** in the South of the island. And these two neighborhoods tends to be more expensive compared to other neighborhoods on the island."
   ]
  },
  {
   "cell_type": "code",
   "execution_count": null,
   "metadata": {},
   "outputs": [],
   "source": [
    "# display 15 clusters of neighborhoods base on Airbnb data\n",
    "map = get_housing_kmeans_map('Kauai - Use K-Means to Define 15 Clusters of Housing Neighborhoods', 'Kauai, Hawaii', data_airbnb_housing_df, data_latlons, clusters=15, zoom_level=11)\n",
    "map"
   ]
  },
  {
   "cell_type": "markdown",
   "metadata": {},
   "source": [
    "**Top-Picks Heatmap**\n",
    "\n",
    "After retrieved the top-picks from Foursquare, let's put the venues on the map using *heatmap*. Basically, it is helpful to identify where are the visitor destinations."
   ]
  },
  {
   "cell_type": "code",
   "execution_count": null,
   "metadata": {},
   "outputs": [],
   "source": [
    "# generate top-picks\n",
    "data_latlons = generate_toppicks('Kauai, Hawaii, USA')\n",
    "\n",
    "# top-picks heatmap\n",
    "map = get_island_zipcode_map('Kauai - Top-Picks Heatmap', 'Kauai, Hawaii, USA', data_neighborhood_df, data_latlons)\n",
    "map"
   ]
  },
  {
   "cell_type": "markdown",
   "metadata": {},
   "source": [
    "**Kauai: Word Count**\n",
    "    \n",
    "Using the *word count* technique, we can easily see the popular venues."
   ]
  },
  {
   "cell_type": "code",
   "execution_count": null,
   "metadata": {},
   "outputs": [],
   "source": [
    "word_string = generate_word_count_toppicks('Kauai, Hawaii, USA')\n",
    "\n",
    "# create the word cloud\n",
    "wordcloud = WordCloud(background_color='white').generate(word_string)\n",
    "\n",
    "# display the cloud\n",
    "fig = plt.figure()\n",
    "fig.set_figwidth(14)\n",
    "fig.set_figheight(18)\n",
    "\n",
    "plt.imshow(wordcloud, interpolation='bilinear')\n",
    "plt.axis('off')\n",
    "plt.show()"
   ]
  },
  {
   "cell_type": "markdown",
   "metadata": {},
   "source": [
    "**Kauai: Top-Picks on the Map**\n",
    "\n",
    "Here is a list of the top-picks on the map."
   ]
  },
  {
   "cell_type": "code",
   "execution_count": null,
   "metadata": {},
   "outputs": [],
   "source": [
    "# top-picks on a map\n",
    "map = get_island_toppicks_outdoor_map('Kauai - Top-Picks', 'Kauai, Hawaii, USA')\n",
    "map"
   ]
  },
  {
   "cell_type": "code",
   "execution_count": null,
   "metadata": {},
   "outputs": [],
   "source": []
  },
  {
   "cell_type": "code",
   "execution_count": null,
   "metadata": {},
   "outputs": [],
   "source": []
  },
  {
   "cell_type": "code",
   "execution_count": null,
   "metadata": {},
   "outputs": [],
   "source": []
  },
  {
   "cell_type": "code",
   "execution_count": null,
   "metadata": {},
   "outputs": [],
   "source": []
  },
  {
   "cell_type": "code",
   "execution_count": null,
   "metadata": {},
   "outputs": [],
   "source": []
  },
  {
   "cell_type": "code",
   "execution_count": null,
   "metadata": {},
   "outputs": [],
   "source": []
  },
  {
   "cell_type": "markdown",
   "metadata": {},
   "source": [
    "### 2. Oahu (aka. The Gathering Place)"
   ]
  },
  {
   "cell_type": "code",
   "execution_count": null,
   "metadata": {},
   "outputs": [],
   "source": [
    "# restrict the data by island\n",
    "data_island_df, data_neighborhood_df, data_airbnb_housing_df = get_island_dataframes(island_df, neighborhood_df, airbnb_housing_df, 'Oahu')\n",
    "\n",
    "# verify the dataframes\n",
    "if verbose:\n",
    "    print('data_island_df.shape: {}'.format(data_island_df.shape))\n",
    "    print('data_neighborhood_df.shape: {}'.format(data_neighborhood_df.shape))  \n",
    "    print('data_airbnb_housing_df.shape: {}'.format(data_airbnb_housing_df.shape)) "
   ]
  },
  {
   "cell_type": "code",
   "execution_count": null,
   "metadata": {},
   "outputs": [],
   "source": [
    "# generate crime incidents\n",
    "data_latlons = generate_crime_incidents(data_neighborhood_df)\n",
    "\n",
    "# crime incident heatmap\n",
    "map = get_island_zipcode_map('Oahu - Crime Incident Heatmap', 'Oahu, Hawaii, USA', data_neighborhood_df, data_latlons)\n",
    "map  "
   ]
  },
  {
   "cell_type": "code",
   "execution_count": null,
   "metadata": {},
   "outputs": [],
   "source": [
    "# generate Airbnb housing\n",
    "data_latlons = generate_airbnb_housing(data_airbnb_housing_df)\n",
    "\n",
    "# Airbnb housing heatmap\n",
    "map = get_island_zipcode_map('Oahu - Airbnb Housing Heatmap', 'Oahu, Hawaii, USA', data_neighborhood_df, data_latlons)\n",
    "map"
   ]
  },
  {
   "cell_type": "code",
   "execution_count": null,
   "metadata": {},
   "outputs": [],
   "source": [
    "# display 15 clusters of neighborhoods base on Airbnb data\n",
    "map = get_housing_kmeans_map('Oahu - Use K-Means to Define 15 Clusters of Housing Neighborhoods', 'Oahu, Hawaii', data_airbnb_housing_df, data_latlons, clusters=15, zoom_level=11)\n",
    "map"
   ]
  },
  {
   "cell_type": "code",
   "execution_count": null,
   "metadata": {},
   "outputs": [],
   "source": [
    "# generate top-picks\n",
    "data_latlons = generate_toppicks('Oahu, Hawaii, USA')\n",
    "\n",
    "# top-picks heatmap\n",
    "map = get_island_zipcode_map('Oahu - Top-Picks Heatmap', 'Oahu, Hawaii, USA', data_neighborhood_df, data_latlons)\n",
    "map"
   ]
  },
  {
   "cell_type": "code",
   "execution_count": null,
   "metadata": {},
   "outputs": [],
   "source": [
    "word_string = generate_word_count_toppicks('Oahu, Hawaii, USA')\n",
    "\n",
    "# create the word cloud\n",
    "wordcloud = WordCloud(background_color='white').generate(word_string)\n",
    "\n",
    "# display the cloud\n",
    "fig = plt.figure()\n",
    "fig.set_figwidth(14)\n",
    "fig.set_figheight(18)\n",
    "\n",
    "plt.imshow(wordcloud, interpolation='bilinear')\n",
    "plt.axis('off')\n",
    "plt.show()"
   ]
  },
  {
   "cell_type": "code",
   "execution_count": null,
   "metadata": {},
   "outputs": [],
   "source": [
    "# top-picks on a map\n",
    "map = get_island_toppicks_outdoor_map('Oahu - Top-Picks', 'Oahu, Hawaii, USA')\n",
    "map"
   ]
  },
  {
   "cell_type": "markdown",
   "metadata": {},
   "source": [
    "### 3. Molokai (aka. The Friendly Isle)"
   ]
  },
  {
   "cell_type": "code",
   "execution_count": null,
   "metadata": {},
   "outputs": [],
   "source": [
    "# restrict the data by island\n",
    "data_island_df, data_neighborhood_df, data_airbnb_housing_df = get_island_dataframes(island_df, neighborhood_df, airbnb_housing_df, 'Molokai')\n",
    "\n",
    "# verify the dataframes\n",
    "if verbose:\n",
    "    print('data_island_df.shape: {}'.format(data_island_df.shape))\n",
    "    print('data_neighborhood_df.shape: {}'.format(data_neighborhood_df.shape))\n",
    "    print('data_airbnb_housing_df.shape: {}'.format(data_airbnb_housing_df.shape)) "
   ]
  },
  {
   "cell_type": "code",
   "execution_count": null,
   "metadata": {},
   "outputs": [],
   "source": [
    "# generate crime incidents\n",
    "data_latlons = generate_crime_incidents(data_neighborhood_df)\n",
    "\n",
    "# crime incident heatmap\n",
    "map = get_island_zipcode_map('Molokai - Crime Incident Heatmap', 'Molokai, Hawaii, USA', data_neighborhood_df, data_latlons)\n",
    "map    "
   ]
  },
  {
   "cell_type": "code",
   "execution_count": null,
   "metadata": {},
   "outputs": [],
   "source": [
    "# restrict the data by island (Maui data)\n",
    "data_island_df, data_neighborhood_df, data_airbnb_housing_df = get_island_dataframes(island_df, neighborhood_df, airbnb_housing_df, 'Maui')\n",
    "\n",
    "# generate Airbnb housing\n",
    "data_latlons = generate_airbnb_housing(data_airbnb_housing_df)\n",
    "\n",
    "# Airbnb housing heatmap\n",
    "map = get_island_zipcode_map('Molokai - Airbnb Housing Heatmap', 'Molokai, Hawaii, USA', data_neighborhood_df, data_latlons)\n",
    "map"
   ]
  },
  {
   "cell_type": "code",
   "execution_count": null,
   "metadata": {},
   "outputs": [],
   "source": [
    "# display 15 clusters of neighborhoods base on Airbnb data\n",
    "map = get_housing_kmeans_map('Molokai - Use K-Means to Define 15 Clusters of Housing Neighborhoods', 'Molokai, Hawaii', data_airbnb_housing_df, data_latlons, clusters=15, zoom_level=11)\n",
    "map"
   ]
  },
  {
   "cell_type": "code",
   "execution_count": null,
   "metadata": {},
   "outputs": [],
   "source": [
    "# generate top-picks\n",
    "data_latlons = generate_toppicks('Molokai, Hawaii, USA')\n",
    "\n",
    "# top-picks heatmap\n",
    "map = get_island_zipcode_map('Molokai - Top-Picks Heatmap', 'Molokai, Hawaii, USA', data_neighborhood_df, data_latlons)\n",
    "map"
   ]
  },
  {
   "cell_type": "code",
   "execution_count": null,
   "metadata": {},
   "outputs": [],
   "source": [
    "word_string = generate_word_count_toppicks('Molokai, Hawaii, USA')\n",
    "\n",
    "# create the word cloud\n",
    "wordcloud = WordCloud(background_color='white').generate(word_string)\n",
    "\n",
    "# display the cloud\n",
    "fig = plt.figure()\n",
    "fig.set_figwidth(14)\n",
    "fig.set_figheight(18)\n",
    "\n",
    "plt.imshow(wordcloud, interpolation='bilinear')\n",
    "plt.axis('off')\n",
    "plt.show()"
   ]
  },
  {
   "cell_type": "code",
   "execution_count": null,
   "metadata": {},
   "outputs": [],
   "source": [
    "# top-picks on a map\n",
    "map = get_island_toppicks_outdoor_map('Molokai - Top-Picks', 'Molokai, Hawaii, USA')\n",
    "map"
   ]
  },
  {
   "cell_type": "markdown",
   "metadata": {},
   "source": [
    "### 4. Lanai (aka. The Pineapple Isle)"
   ]
  },
  {
   "cell_type": "code",
   "execution_count": null,
   "metadata": {},
   "outputs": [],
   "source": [
    "# restrict the data by island\n",
    "data_island_df, data_neighborhood_df, data_airbnb_housing_df = get_island_dataframes(island_df, neighborhood_df, airbnb_housing_df, 'Lanai')\n",
    "\n",
    "# verify the dataframes\n",
    "if verbose:\n",
    "    print('data_island_df.shape: {}'.format(data_island_df.shape))\n",
    "    print('data_neighborhood_df.shape: {}'.format(data_neighborhood_df.shape))\n",
    "    print('data_airbnb_housing_df.shape: {}'.format(data_airbnb_housing_df.shape)) "
   ]
  },
  {
   "cell_type": "code",
   "execution_count": null,
   "metadata": {},
   "outputs": [],
   "source": [
    "# generate crime incidents\n",
    "data_latlons = generate_crime_incidents(data_neighborhood_df)\n",
    "\n",
    "# crime incident heatmap\n",
    "map = get_island_zipcode_map('Lanai - Crime Incident Heatmap', 'Lanai, Hawaii, USA', data_neighborhood_df, data_latlons)\n",
    "map    "
   ]
  },
  {
   "cell_type": "code",
   "execution_count": null,
   "metadata": {},
   "outputs": [],
   "source": [
    "# restrict the data by island (Maui data)\n",
    "data_island_df, data_neighborhood_df, data_airbnb_housing_df = get_island_dataframes(island_df, neighborhood_df, airbnb_housing_df, 'Maui')\n",
    "\n",
    "# generate Airbnb housing\n",
    "data_latlons = generate_airbnb_housing(data_airbnb_housing_df)\n",
    "\n",
    "# Airbnb housing heatmap\n",
    "map = get_island_zipcode_map('Lanai - Airbnb Housing Heatmap', 'Lanai, Hawaii, USA', data_neighborhood_df, data_latlons)\n",
    "map"
   ]
  },
  {
   "cell_type": "code",
   "execution_count": null,
   "metadata": {},
   "outputs": [],
   "source": [
    "# display 15 clusters of neighborhoods base on Airbnb data\n",
    "map = get_housing_kmeans_map('Lanai - Use K-Means to Define 15 Clusters of Housing Neighborhoods', 'Lanai, Hawaii', data_airbnb_housing_df, data_latlons, clusters=15, zoom_level=11)\n",
    "map"
   ]
  },
  {
   "cell_type": "code",
   "execution_count": null,
   "metadata": {},
   "outputs": [],
   "source": [
    "# generate top-picks\n",
    "data_latlons = generate_toppicks('Lanai, Hawaii, USA')\n",
    "\n",
    "# top-picks heatmap\n",
    "map = get_island_zipcode_map('Lanai - Top-Picks Heatmap', 'Lanai, Hawaii, USA', data_neighborhood_df, data_latlons)\n",
    "map"
   ]
  },
  {
   "cell_type": "code",
   "execution_count": null,
   "metadata": {},
   "outputs": [],
   "source": [
    "word_string = generate_word_count_toppicks('Lanai, Hawaii, USA')\n",
    "\n",
    "# create the word cloud\n",
    "wordcloud = WordCloud(background_color='white').generate(word_string)\n",
    "\n",
    "# display the cloud\n",
    "fig = plt.figure()\n",
    "fig.set_figwidth(14)\n",
    "fig.set_figheight(18)\n",
    "\n",
    "plt.imshow(wordcloud, interpolation='bilinear')\n",
    "plt.axis('off')\n",
    "plt.show()"
   ]
  },
  {
   "cell_type": "code",
   "execution_count": null,
   "metadata": {},
   "outputs": [],
   "source": [
    "# top-picks on a map\n",
    "map = get_island_toppicks_outdoor_map('Lanai - Top-Picks', 'Lanai, Hawaii, USA')\n",
    "map"
   ]
  },
  {
   "cell_type": "markdown",
   "metadata": {},
   "source": [
    "### 5. Maui (aka. The Valley Isle)"
   ]
  },
  {
   "cell_type": "code",
   "execution_count": null,
   "metadata": {},
   "outputs": [],
   "source": [
    "# restrict the data by island\n",
    "data_island_df, data_neighborhood_df, data_airbnb_housing_df = get_island_dataframes(island_df, neighborhood_df, airbnb_housing_df, 'Maui')\n",
    "\n",
    "# verify the dataframes\n",
    "if verbose:\n",
    "    print('data_island_df.shape: {}'.format(data_island_df.shape))\n",
    "    print('data_neighborhood_df.shape: {}'.format(data_neighborhood_df.shape)) \n",
    "    print('data_airbnb_housing_df.shape: {}'.format(data_airbnb_housing_df.shape)) "
   ]
  },
  {
   "cell_type": "code",
   "execution_count": null,
   "metadata": {},
   "outputs": [],
   "source": [
    "# generate crime incidents\n",
    "data_latlons = generate_crime_incidents(data_neighborhood_df)\n",
    "\n",
    "# crime incident heatmap\n",
    "map = get_island_zipcode_map('Maui - Crime Incident Heatmap', 'Maui, Hawaii, USA', data_neighborhood_df, data_latlons)\n",
    "map   "
   ]
  },
  {
   "cell_type": "code",
   "execution_count": null,
   "metadata": {},
   "outputs": [],
   "source": [
    "# generate Airbnb housing\n",
    "data_latlons = generate_airbnb_housing(data_airbnb_housing_df)\n",
    "\n",
    "# Airbnb housing heatmap\n",
    "map = get_island_zipcode_map('Maui - Airbnb Housing Heatmap', 'Maui, Hawaii, USA', data_neighborhood_df, data_latlons)\n",
    "map"
   ]
  },
  {
   "cell_type": "code",
   "execution_count": null,
   "metadata": {},
   "outputs": [],
   "source": [
    "# display 15 clusters of neighborhoods base on Airbnb data\n",
    "map = get_housing_kmeans_map('Maui - Use K-Means to Define 15 Clusters of Housing Neighborhoods', 'Maui, Hawaii', data_airbnb_housing_df, data_latlons, clusters=15, zoom_level=11)\n",
    "map"
   ]
  },
  {
   "cell_type": "code",
   "execution_count": null,
   "metadata": {},
   "outputs": [],
   "source": [
    "# generate top-picks\n",
    "data_latlons = generate_toppicks('Maui, Hawaii, USA')\n",
    "\n",
    "# top-picks heatmap\n",
    "map = get_island_zipcode_map('Maui - Top-Picks Heatmap', 'Maui, Hawaii, USA', data_neighborhood_df, data_latlons)\n",
    "map"
   ]
  },
  {
   "cell_type": "code",
   "execution_count": null,
   "metadata": {},
   "outputs": [],
   "source": [
    "word_string = generate_word_count_toppicks('Maui, Hawaii, USA')\n",
    "\n",
    "# create the word cloud\n",
    "wordcloud = WordCloud(background_color='white').generate(word_string)\n",
    "\n",
    "# display the cloud\n",
    "fig = plt.figure()\n",
    "fig.set_figwidth(14)\n",
    "fig.set_figheight(18)\n",
    "\n",
    "plt.imshow(wordcloud, interpolation='bilinear')\n",
    "plt.axis('off')\n",
    "plt.show()"
   ]
  },
  {
   "cell_type": "code",
   "execution_count": null,
   "metadata": {},
   "outputs": [],
   "source": [
    "# top-picks on a map\n",
    "map = get_island_toppicks_outdoor_map('Maui - Top-Picks', 'Maui, Hawaii, USA')\n",
    "map"
   ]
  },
  {
   "cell_type": "markdown",
   "metadata": {},
   "source": [
    "### 6. Big Island (aka. The Island of Hawaii)"
   ]
  },
  {
   "cell_type": "code",
   "execution_count": null,
   "metadata": {},
   "outputs": [],
   "source": [
    "# restrict the data by island\n",
    "data_island_df, data_neighborhood_df, data_airbnb_housing_df = get_island_dataframes(island_df, neighborhood_df, airbnb_housing_df, 'Hawaii')\n",
    "\n",
    "# verify the dataframes\n",
    "if verbose:\n",
    "    print('data_island_df.shape: {}'.format(data_island_df.shape))\n",
    "    print('data_neighborhood_df.shape: {}'.format(data_neighborhood_df.shape))\n",
    "    print('data_airbnb_housing_df.shape: {}'.format(data_airbnb_housing_df.shape)) "
   ]
  },
  {
   "cell_type": "code",
   "execution_count": null,
   "metadata": {},
   "outputs": [],
   "source": [
    "# generate crime incidents\n",
    "data_latlons = generate_crime_incidents(data_neighborhood_df)\n",
    "\n",
    "# crime incident heatmap\n",
    "map = get_island_zipcode_map('Island of Hawaii - Crime Incident Heatmap', 'Island of Hawaii, Hawaii, USA', data_neighborhood_df, data_latlons, 10)\n",
    "map "
   ]
  },
  {
   "cell_type": "code",
   "execution_count": null,
   "metadata": {},
   "outputs": [],
   "source": [
    "# generate Airbnb housing\n",
    "data_latlons = generate_airbnb_housing(data_airbnb_housing_df)\n",
    "\n",
    "# Airbnb housing heatmap\n",
    "map = get_island_zipcode_map('Island of Hawaii - Airbnb Housing Heatmap', 'Island of Hawaii, Hawaii, USA', data_neighborhood_df, data_latlons, 10)\n",
    "map"
   ]
  },
  {
   "cell_type": "code",
   "execution_count": null,
   "metadata": {},
   "outputs": [],
   "source": [
    "# display 15 clusters of neighborhoods base on Airbnb data\n",
    "map = get_housing_kmeans_map('Big Island - Use K-Means to Define 15 Clusters of Housing Neighborhoods', 'Island of Hawaii, Hawaii', data_airbnb_housing_df, data_latlons, clusters=15, zoom_level=11)\n",
    "map"
   ]
  },
  {
   "cell_type": "code",
   "execution_count": null,
   "metadata": {},
   "outputs": [],
   "source": [
    "# generate top-picks\n",
    "data_latlons = generate_toppicks('Island of Hawaii, Hawaii, USA')\n",
    "\n",
    "# top-picks heatmap\n",
    "map = get_island_zipcode_map('Island of Hawaii - Top-Picks Heatmap', 'Island of Hawaii, Hawaii, USA', data_neighborhood_df, data_latlons, 10)\n",
    "map"
   ]
  },
  {
   "cell_type": "code",
   "execution_count": null,
   "metadata": {},
   "outputs": [],
   "source": [
    "word_string = generate_word_count_toppicks('Island of Hawaii, Hawaii, USA')\n",
    "\n",
    "# create the word cloud\n",
    "wordcloud = WordCloud(background_color='white').generate(word_string)\n",
    "\n",
    "# display the cloud\n",
    "fig = plt.figure()\n",
    "fig.set_figwidth(14)\n",
    "fig.set_figheight(18)\n",
    "\n",
    "plt.imshow(wordcloud, interpolation='bilinear')\n",
    "plt.axis('off')\n",
    "plt.show()"
   ]
  },
  {
   "cell_type": "code",
   "execution_count": null,
   "metadata": {},
   "outputs": [],
   "source": [
    "# top-picks on a map\n",
    "map = get_island_toppicks_outdoor_map('Big Island - Top-Picks', 'Island of Hawaii, Hawaii, USA')\n",
    "map"
   ]
  },
  {
   "cell_type": "markdown",
   "metadata": {},
   "source": []
  },
  {
   "cell_type": "code",
   "execution_count": null,
   "metadata": {},
   "outputs": [],
   "source": []
  }
 ],
 "metadata": {
  "kernelspec": {
   "display_name": "Python",
   "language": "python",
   "name": "conda-env-python-py"
  },
  "language_info": {
   "codemirror_mode": {
    "name": "ipython",
    "version": 3
   },
   "file_extension": ".py",
   "mimetype": "text/x-python",
   "name": "python",
   "nbconvert_exporter": "python",
   "pygments_lexer": "ipython3",
   "version": "3.6.10"
  }
 },
 "nbformat": 4,
 "nbformat_minor": 4
}
