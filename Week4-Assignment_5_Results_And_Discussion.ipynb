{
 "cells": [
  {
   "cell_type": "markdown",
   "metadata": {},
   "source": [
    "# Capstone Project - The Battle of Neighborhoods (Week 2) - Visit Hawaii\n",
    "\n",
    "<div class=\"alert alert-block alert-info\" style=\"margin-top: 20px\">\n",
    "    \n",
    "**Applied Data Science Capstone by IBM/Coursera**\n",
    "\n",
    "The purpose of this Capstone assignment is to showcase students skills and the tools using location data to explore a geographical location. Students will have the opportunity to be as *creative* as we want and come up with an idea to leverage the *Foursquare* location data to explore or compare neighborhoods or cities of our choice or to come up with a problem that we can use the *Foursquare* location data to solve.\n",
    "\n",
    "</div>"
   ]
  },
  {
   "cell_type": "markdown",
   "metadata": {},
   "source": [
    "## Section 5: Results and Discussion <a name=\"results\"></a>"
   ]
  },
  {
   "cell_type": "markdown",
   "metadata": {},
   "source": [
    "The analysis shows that there are plenty of housing available in Airbnb. In fact, it has become very common to find place to stay in Hawaii using the Airbnb booking service, maybe Hawaii is one of the top tourist destinations. Using the K-means clustering technique the consultant is able to identify neighborhoods for each Hawaiian island. \n",
    "\n",
    "Results of the 15 zones, containing largest number of potential housing locations based on Airbnb posting, has been identified for each Hawaiian island. With this Airbnb zones available, together with crime location, it should help visitors to plan to the trip where to stay.\n",
    "\n",
    "Generally speaking, the Hawaiian islands are relatively safe except for the Oahu island, due to its high density of population, about more than 80% of the Hawaii population are living in Oahu. Thus, Honolulu is the center of government, economy, culture.\n",
    "\n",
    "Since the islands is small, it will only take a few hours to reach a travel destination, so car rental is recommended and extremely convenient. The consultant has listed out 25 top-picks of parks or beaches for each island. This venue information should help visitors to prioritize how they can relax and spend on a island.\n",
    "\n",
    "During the project, there is a discussion involving island-hopping travel to other islands for a quick day trip. The consultant believe that it is possible, however only air transportation is available using local airline carrier like Hawaiian Airlines.\n",
    "\n",
    "Another important discussion, **Capstone Travel** should be prepared is to review the COVID-19 cases and threads in Hawaii. So far, the consultant believes that the State of Hawaii has done an excellent job of keeping the infection down and under control. Most of the COVID-19 is on the island of Oahu. Again, it is due to the high density of population on the island."
   ]
  },
  {
   "cell_type": "markdown",
   "metadata": {},
   "source": [
    "\n"
   ]
  },
  {
   "cell_type": "markdown",
   "metadata": {},
   "source": [
    "| Attributes | Kauai | Oahu | Molokai | Lanai | Maui | Island of Hawaii |\n",
    "|------------|-------|------|---------|-------|------|------------------|\n",
    "| `Nickname` | Garden Isle | Gathering Place | Friendly Isle | Pineapple Isle | Valley Isle | Big Island |\n",
    "| `Capital City` | Lihue | Honolulu | Wailuku | Wailuku | Wailuku | Hilo |\n",
    "| `Area (sq mi)` | 4,552.3 | 11,597.5 | 528.3 | 622.3 | 2,198.6 | 14,028.0 |\n",
    "| `Criminal Charge (in 2020)` | 0 | 75,297 | 0 | 0 | 0 | 0 |\n",
    "| `Avg Spring Temp` | 72°F | 74°F | 71°F | 68°F | 72°F | 71°F |\n",
    "| `Avg Summer Temp` | 76°F | 77°F | 74°F | 71°F | 76°F | 74°F |\n",
    "| `Avg Fall Temp` | 79°F | 80°F | 78°F | 74°F | 79°F | 76°F |\n",
    "| `Avg Winter Temp` | 76°F | 77°F | 75°F | 71°F | 75°F | 73°F |\n",
    "| `Population` | 66,921 | 953,207 | 7,345 | 3,135 | 144,444 | 185,079 |\n",
    "| `Density (pop. / sq mi)` | 3,121 | 11,597 | 528 | 622 | 2,727 | 445 |"
   ]
  }
 ],
 "metadata": {
  "kernelspec": {
   "display_name": "Python",
   "language": "python",
   "name": "conda-env-python-py"
  },
  "language_info": {
   "codemirror_mode": {
    "name": "ipython",
    "version": 3
   },
   "file_extension": ".py",
   "mimetype": "text/x-python",
   "name": "python",
   "nbconvert_exporter": "python",
   "pygments_lexer": "ipython3",
   "version": "3.6.10"
  }
 },
 "nbformat": 4,
 "nbformat_minor": 4
}
