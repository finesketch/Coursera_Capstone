{
 "cells": [
  {
   "cell_type": "markdown",
   "metadata": {},
   "source": [
    "# Capstone Project - The Battle of Neighborhoods (Week 1) - Visit Hawaii\n",
    "\n",
    "**Applied Data Science Capstone by IBM/Coursera**\n",
    "\n",
    "The purpose of this Capstone assignment is to showcase students skills and the tools using location data to explore a geographical location. Students will have the opportunity to be as *creative* as we want and come up with an idea to leverage the *Foursquare* location data to explore or compare neighborhoods or cities of our choice or to come up with a problem that we can use the *Foursquare* location data to solve."
   ]
  },
  {
   "cell_type": "markdown",
   "metadata": {},
   "source": [
    "## Section 1: Introduction & Business Problem"
   ]
  },
  {
   "cell_type": "markdown",
   "metadata": {},
   "source": [
    "### Background\n",
    "\n",
    "After COVID-19 shelter-in-place policy is ended, a Seattle-based travel agency, **Capstone Travel Inc.** (aka **Capstone Travel** in short), wants to run a travel promotion called **Visit Hawaii** to bring tourists to Hawaii for a short-term vacationing or stay, in which the length of stay can be anywhere from 14 days to several months. Since there are 6 major islands in Hawaii, so one of first few questions **Capstone Travel** needs to help customers to decide is - *Which island customers should visit and stay based on their preferences or needs?*"
   ]
  },
  {
   "cell_type": "markdown",
   "metadata": {},
   "source": [
    "### Problem Statement\n",
    "\n",
    "Already, there are plenty of information about Hawaii available online, so **Capstone Travel** needs to stay ahead and provide the *useful* and *decisive* information to customers on visiting Hawaii by aggregating information on island activities, places of interest, local cultural events, restaurant, and etc.\n",
    "\n",
    "To help getting started with the exciting **Visit Hawaii** project, **Capstone Travel** will hire an outside data science consultant to help putting together a proposal for this new initiative to explore **the most popular venues of all 6 major islands in Hawaii**, so the final report should include venues on these beautiful islands: Kauai, Maui, Oahu, Molokai, Lanai, and Big Island. \n",
    "\n",
    "The proposal should include **the most popular venues of the 6 major islands in Hawaii** based the popular feedbacks received from Foursquare location data. With venue information available on each island, it can greatly help **Capstone Travel**'s customers to make decision on which island they plan to spend their on.\n",
    "\n",
    "> Note: Big Island is also called \"Island of Hawaii\"."
   ]
  },
  {
   "cell_type": "markdown",
   "metadata": {},
   "source": [
    "### Target Audience\n",
    "\n",
    "Around the world as we have already learned that public places, like schools, workplaces, and etc. have been shut down to keep people safe. All the previously well-planned and non-essential travel were either canceled or postponed. In some areas, people have been coped up with this *lock down* at least for 2-3 months. So **Capstone Travel** wants to get ready when governments have lifted the *shelter-in-place* policy when pandemic is under control. Eventually, people will need to plan an *escape* and to recover from the physiological and emotional impact of this extended *lock down*.\n",
    "\n",
    "This **Visit Hawaii** project data science report will be targeted to stakeholders interested in visiting Hawaii for a *short-term stay* from 14 days to several months."
   ]
  },
  {
   "cell_type": "markdown",
   "metadata": {},
   "source": [
    "### Scope of the Project\n",
    "\n",
    "The scope of the project will be focused on these areas:\n",
    "- The scope of data gathering should be focusing on these 6 major Hawaii islands: Kauai, Oahu, Molokai, Lanai, Maui, and Big Island. *(Note: Kalawao County will be excluded from this project.)*\n",
    "- Data acquisition and cleansing should be discussed.\n",
    "- Use **Foursquare API** to retrieve location data.\n",
    "- Methodology will be detailed in the report.\n",
    "- Use visual tools for illustration, presentation, or any decision made.\n",
    "- Due to resource constraints, economic or cost aspects of local business activities will not be covered or discussed in this project."
   ]
  },
  {
   "cell_type": "markdown",
   "metadata": {},
   "source": [
    "### Assumption\n",
    "\n",
    "There is one assumption needs to be made here just to set the expectation:\n",
    "- Pricing or cost related data will not be discussed, it will excluded."
   ]
  },
  {
   "cell_type": "markdown",
   "metadata": {},
   "source": [
    "### Success Criteria\n",
    "\n",
    "For this project to be successful, it needs to meet several important criteria:\n",
    "- It needs to help **Capstone Travel** to provide useful information to customers before traveling to Hawaii.\n",
    "- The project should provide good recommendation of island choice based on customers preference.\n",
    "\n",
    "Below are the *data science* aspect of the project:\n",
    "- Data Acquisition\n",
    "- Data Cleansing\n",
    "- Data Analysis\n",
    "- Machine Learning\n",
    "- Prediction"
   ]
  },
  {
   "cell_type": "code",
   "execution_count": null,
   "metadata": {},
   "outputs": [],
   "source": []
  },
  {
   "cell_type": "code",
   "execution_count": null,
   "metadata": {},
   "outputs": [],
   "source": []
  }
 ],
 "metadata": {
  "kernelspec": {
   "display_name": "Python",
   "language": "python",
   "name": "conda-env-python-py"
  },
  "language_info": {
   "codemirror_mode": {
    "name": "ipython",
    "version": 3
   },
   "file_extension": ".py",
   "mimetype": "text/x-python",
   "name": "python",
   "nbconvert_exporter": "python",
   "pygments_lexer": "ipython3",
   "version": "3.6.10"
  }
 },
 "nbformat": 4,
 "nbformat_minor": 4
}
